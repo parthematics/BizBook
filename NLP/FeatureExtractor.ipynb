{
 "cells": [
  {
   "cell_type": "code",
   "execution_count": 9,
   "metadata": {},
   "outputs": [],
   "source": [
    "import tensorflow as tf\n",
    "import tensorflow_hub as hub\n",
    "import matplotlib.pyplot as plt\n",
    "import numpy as np\n",
    "import os\n",
    "import pandas as pd\n",
    "import re\n",
    "import seaborn as sns"
   ]
  },
  {
   "cell_type": "code",
   "execution_count": null,
   "metadata": {},
   "outputs": [
    {
     "name": "stdout",
     "output_type": "stream",
     "text": [
      "INFO:tensorflow:Using /var/folders/xl/xw9cp_fd22qbyf3ff_008yh80000gn/T/tfhub_modules to cache modules.\n",
      "INFO:tensorflow:Downloading TF-Hub Module 'https://tfhub.dev/google/universal-sentence-encoder/2'.\n"
     ]
    }
   ],
   "source": [
    "embed = hub.Module(\"https://tfhub.dev/google/universal-sentence-encoder/2\")"
   ]
  },
  {
   "cell_type": "code",
   "execution_count": 5,
   "metadata": {},
   "outputs": [
    {
     "name": "stdout",
     "output_type": "stream",
     "text": [
      "INFO:tensorflow:Saver not created because there are no variables in the graph to restore\n"
     ]
    }
   ],
   "source": [
    "sess = tf.Session()\n",
    "sess.run([tf.global_variables_initializer(), tf.tables_initializer()])\n",
    "messages = tf.placeholder(dtype=tf.string, shape=[None])\n",
    "embeddings = embed(messages)"
   ]
  },
  {
   "cell_type": "code",
   "execution_count": 6,
   "metadata": {},
   "outputs": [],
   "source": [
    "# Read terms and write embedding data to file.\n",
    "\n",
    "import csv\n",
    "data_file = \"cleaned_data.tsv\"\n",
    "write_to = \"embedding_data.tsv\"\n",
    "terms_with_embeddings = []\n",
    "\n",
    "with open(data_file, 'r') as f:\n",
    "    file = csv.reader(f, delimiter='\\t')\n",
    "    for line in file:\n",
    "        to_embed = line[0]\n",
    "        parent = line[1]\n",
    "        term_vector = sess.run(embeddings, feed_dict={messages: [to_embed]})\n",
    "        terms_with_embeddings.append([to_embed, parent, term_vector])\n",
    "    f.close()\n",
    "\n",
    "with open(write_to, 'w') as f:\n",
    "    for triple in terms_with_embeddings:\n",
    "        f.write('%s\\t%s\\t%s\\n' % (triple[0], triple[1], triple[2]))\n",
    "    f.close()"
   ]
  },
  {
   "cell_type": "code",
   "execution_count": 51,
   "metadata": {},
   "outputs": [],
   "source": [
    "from scipy import spatial\n",
    "import heapq\n",
    "\n",
    "def logistic(z):\n",
    "    \"\"\" Modified logistic exponential to score cosine similarity strength. \"\"\"\n",
    "    return 1.0495 / (1.0000 + (3.0000 * np.exp((-4.1000) * z)))\n",
    "\n",
    "def cosine_similarity(matrix1, matrix2):\n",
    "    \"\"\" Calculates cosine similarity between two vectors. \"\"\"\n",
    "    return 1 - spatial.distance.cosine(matrix1, matrix2)\n",
    "\n",
    "def top_similar(feature):\n",
    "    term_map = {}\n",
    "    my_matrix = sess.run(embeddings, feed_dict={messages: [feature]})\n",
    "    \n",
    "    for i, term in enumerate(terms_with_embeddings):\n",
    "        term_map[term[0]] = cosine_similarity(my_matrix, term[2])\n",
    "        \n",
    "    bestResult = heapq.nlargest(1, term_map, key=term_map.get)\n",
    "    return_val = bestResult[0].split(', ')\n",
    "    \n",
    "    return (return_val[0], return_val[1], str(round(logistic(term_map[bestResult[0]]), 2) * 100) + \"%\")"
   ]
  },
  {
   "cell_type": "code",
   "execution_count": 62,
   "metadata": {},
   "outputs": [
    {
     "name": "stdout",
     "output_type": "stream",
     "text": [
      "('Digestive system', ' intestinal pseudoobstruction', '96.0%')\n",
      "('Financial Features', 'number of venture capital firms investing in the company', '93.0%')\n",
      "('Innovation Model', 'novel approach', '83.0%')\n",
      "('Managerial Features', 'marketing side', '90.0%')\n"
     ]
    }
   ],
   "source": [
    "print(top_similar(\"gastrointestinal\"))\n",
    "print(top_similar(\"VC firms invested in this company\"))\n",
    "print(top_similar(\"a new approach\"))\n",
    "print(top_similar(\"marketing aspects\"))"
   ]
  },
  {
   "cell_type": "code",
   "execution_count": null,
   "metadata": {},
   "outputs": [],
   "source": []
  }
 ],
 "metadata": {
  "kernelspec": {
   "display_name": "Python 3",
   "language": "python",
   "name": "python3"
  },
  "language_info": {
   "codemirror_mode": {
    "name": "ipython",
    "version": 3
   },
   "file_extension": ".py",
   "mimetype": "text/x-python",
   "name": "python",
   "nbconvert_exporter": "python",
   "pygments_lexer": "ipython3",
   "version": "3.6.5"
  }
 },
 "nbformat": 4,
 "nbformat_minor": 2
}
